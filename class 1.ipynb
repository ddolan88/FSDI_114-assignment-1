{
 "cells": [
  {
   "cell_type": "code",
   "execution_count": 2,
   "id": "7608a233",
   "metadata": {},
   "outputs": [
    {
     "name": "stdout",
     "output_type": "stream",
     "text": [
      "H\n",
      "e\n",
      "l\n",
      "l\n",
      "o\n",
      ",\n",
      " \n",
      "w\n",
      "o\n",
      "r\n",
      "l\n",
      "d\n",
      "!\n"
     ]
    }
   ],
   "source": [
    "for letter in \"Hello, world!\":\n",
    "    print(letter)\n"
   ]
  },
  {
   "cell_type": "markdown",
   "id": "28f26096",
   "metadata": {},
   "source": [
    "# Problem 1\n",
    "\n",
    "### Given two strings (string_a and string_b) let's check whether or not these are anagrams of each other given the following criteria:\n",
    "\n",
    "### Two strings are anagrams of each other if all conditions below are met:\n",
    "1. They must be exactly of the same length.\n",
    "2. They must use the exact same characters (no moer, no less).\n",
    "\n",
    " `Example: cars and scar, heart and eath, etc.`"
   ]
  },
  {
   "cell_type": "code",
   "execution_count": 8,
   "id": "12f67258",
   "metadata": {},
   "outputs": [],
   "source": [
    "# Instructions: populate the function below, so that it returns True if the parameters are anagrams,\n",
    "# False otherwise.\n",
    "\n",
    "def areAnagram(str1,str2):\n",
    "\n",
    "    # create a count and set staring value to 0\n",
    "    count=[0 for i in range(NO_OF_CHARS)]\n",
    "    i=0\n",
    "\n",
    "    # str1 letters = +1\n",
    "    # str2 letters = -1\n",
    "    for i in range(len(str1)):\n",
    "        count[ord(str1[i]) - ord('a')] += 1;\n",
    "        count[ord(str2[i]) - ord('a')] -= 1;\n",
    "\n",
    "    # check if strings are the same length\n",
    "    if(len(str1) != len(str2)):\n",
    "        return False;\n",
    "\n",
    "    # if they strings are the same length check for letter comparison. Any answer other than 0 = not an anagram\n",
    "    for i in range(NO_OF_CHARS):\n",
    "        if (count[i] != 0):\n",
    "            return False\n",
    "\n",
    "    return True\n",
    " \n",
    "\n",
    "str1=\"I am lord voldemort\"\n",
    "str2=\"Tom Marvolo Riddle\"\n",
    " \n",
    "# Function call\n",
    "if (areAnagram(str1, str2)):\n",
    "    print(\n",
    "    \"The two strings are anagram of each other\")\n",
    "else:\n",
    "    print(\n",
    "    \"The two strings are not anagram of each other\")\n",
    "[3:29 PM]\n",
    "the solution i ended up going with to see if two strings are anagrams\n",
    "\n",
    "# without syntactic sugar (explain how it works and the time complexity of your solution)"
   ]
  },
  {
   "cell_type": "code",
   "execution_count": 9,
   "id": "d72497e5",
   "metadata": {},
   "outputs": [],
   "source": [
    "# BAD SOLUTION\n",
    "\n",
    "def bad_are_anagrams(string_a, string_b):\n",
    "    return sorted(string_a) == sorted(string_b)"
   ]
  },
  {
   "cell_type": "code",
   "execution_count": 10,
   "id": "bfac1fdb",
   "metadata": {},
   "outputs": [
    {
     "data": {
      "text/plain": [
       "True"
      ]
     },
     "execution_count": 10,
     "metadata": {},
     "output_type": "execute_result"
    }
   ],
   "source": [
    "bad_are_anagrams(\"cars\",\"scar\")"
   ]
  },
  {
   "cell_type": "code",
   "execution_count": 1,
   "id": "335284e2",
   "metadata": {},
   "outputs": [],
   "source": [
    "def check(silent, listen):\n",
    "    if(sorted(s1)== sorted(s2)):\n",
    "        print(\"The strings are anagrams.\")\n",
    "    else:\n",
    "        print(\"The strings aren't anagrams.\")"
   ]
  },
  {
   "cell_type": "code",
   "execution_count": 1,
   "id": "022ecff6",
   "metadata": {},
   "outputs": [],
   "source": [
    "# The best case time complexity will be \"big O (1)\" AKA constant time\n",
    "# The worst case time complexity will be o(n) AKA linear time\n",
    "\n",
    "def are_anagrams(string_a, string_b):\n",
    "    if len(string_a) != len(string_b):\n",
    "        return false\n",
    "    dict_a = {}\n",
    "    dict_b = {}\n",
    "    for i in range(len(string_a)):\n",
    "        if string_a[i] in dict_a.keys():\n",
    "            dict_a[string_a[i]] += 1\n",
    "        else:\n",
    "            dict_a[string_a[i]] = 1\n",
    "        if string_b[string_b[i]] in dict_b.keys():\n",
    "            dict_b[string_b[i]] += 1\n",
    "        else:\n",
    "            dict_b[string_b[i]] = 1\n",
    "    return dict_a == dict_b\n",
    "\n",
    "            \n",
    "            "
   ]
  },
  {
   "cell_type": "code",
   "execution_count": 2,
   "id": "24073abb",
   "metadata": {},
   "outputs": [
    {
     "ename": "TypeError",
     "evalue": "string indices must be integers",
     "output_type": "error",
     "traceback": [
      "\u001b[0;31m---------------------------------------------------------------------------\u001b[0m",
      "\u001b[0;31mTypeError\u001b[0m                                 Traceback (most recent call last)",
      "Input \u001b[0;32mIn [2]\u001b[0m, in \u001b[0;36m<cell line: 1>\u001b[0;34m()\u001b[0m\n\u001b[0;32m----> 1\u001b[0m \u001b[43mare_anagrams\u001b[49m\u001b[43m(\u001b[49m\u001b[38;5;124;43m\"\u001b[39;49m\u001b[38;5;124;43msilent\u001b[39;49m\u001b[38;5;124;43m\"\u001b[39;49m\u001b[43m,\u001b[49m\u001b[43m \u001b[49m\u001b[38;5;124;43m\"\u001b[39;49m\u001b[38;5;124;43mlisten\u001b[39;49m\u001b[38;5;124;43m\"\u001b[39;49m\u001b[43m)\u001b[49m\n",
      "Input \u001b[0;32mIn [1]\u001b[0m, in \u001b[0;36mare_anagrams\u001b[0;34m(string_a, string_b)\u001b[0m\n\u001b[1;32m     12\u001b[0m \u001b[38;5;28;01melse\u001b[39;00m:\n\u001b[1;32m     13\u001b[0m     dict_a[string_a[i]] \u001b[38;5;241m=\u001b[39m \u001b[38;5;241m1\u001b[39m\n\u001b[0;32m---> 14\u001b[0m \u001b[38;5;28;01mif\u001b[39;00m \u001b[43mstring_b\u001b[49m\u001b[43m[\u001b[49m\u001b[43mstring_b\u001b[49m\u001b[43m[\u001b[49m\u001b[43mi\u001b[49m\u001b[43m]\u001b[49m\u001b[43m]\u001b[49m \u001b[38;5;129;01min\u001b[39;00m dict_b\u001b[38;5;241m.\u001b[39mkeys():\n\u001b[1;32m     15\u001b[0m     dict_b[string_b[i]] \u001b[38;5;241m+\u001b[39m\u001b[38;5;241m=\u001b[39m \u001b[38;5;241m1\u001b[39m\n\u001b[1;32m     16\u001b[0m \u001b[38;5;28;01melse\u001b[39;00m:\n",
      "\u001b[0;31mTypeError\u001b[0m: string indices must be integers"
     ]
    }
   ],
   "source": [
    "are_anagrams(\"silent\", \"listen\")"
   ]
  },
  {
   "cell_type": "code",
   "execution_count": 3,
   "id": "8d7dece1",
   "metadata": {},
   "outputs": [
    {
     "ename": "IndexError",
     "evalue": "string index out of range",
     "output_type": "error",
     "traceback": [
      "\u001b[0;31m---------------------------------------------------------------------------\u001b[0m",
      "\u001b[0;31mIndexError\u001b[0m                                Traceback (most recent call last)",
      "Input \u001b[0;32mIn [3]\u001b[0m, in \u001b[0;36m<cell line: 31>\u001b[0;34m()\u001b[0m\n\u001b[1;32m     28\u001b[0m str2\u001b[38;5;241m=\u001b[39m\u001b[38;5;124m\"\u001b[39m\u001b[38;5;124mTom Marvolo Riddle\u001b[39m\u001b[38;5;124m\"\u001b[39m\n\u001b[1;32m     30\u001b[0m \u001b[38;5;66;03m# Function call\u001b[39;00m\n\u001b[0;32m---> 31\u001b[0m \u001b[38;5;28;01mif\u001b[39;00m (\u001b[43mareAnagram\u001b[49m\u001b[43m(\u001b[49m\u001b[43mstr1\u001b[49m\u001b[43m,\u001b[49m\u001b[43m \u001b[49m\u001b[43mstr2\u001b[49m\u001b[43m)\u001b[49m):\n\u001b[1;32m     32\u001b[0m     \u001b[38;5;28mprint\u001b[39m(\n\u001b[1;32m     33\u001b[0m     \u001b[38;5;124m\"\u001b[39m\u001b[38;5;124mThe two strings are anagram of each other\u001b[39m\u001b[38;5;124m\"\u001b[39m)\n\u001b[1;32m     34\u001b[0m \u001b[38;5;28;01melse\u001b[39;00m:\n",
      "Input \u001b[0;32mIn [3]\u001b[0m, in \u001b[0;36mareAnagram\u001b[0;34m(str1, str2)\u001b[0m\n\u001b[1;32m     11\u001b[0m \u001b[38;5;28;01mfor\u001b[39;00m i \u001b[38;5;129;01min\u001b[39;00m \u001b[38;5;28mrange\u001b[39m(\u001b[38;5;28mlen\u001b[39m(str1)):\n\u001b[1;32m     12\u001b[0m     count[\u001b[38;5;28mord\u001b[39m(str1[i]) \u001b[38;5;241m-\u001b[39m \u001b[38;5;28mord\u001b[39m(\u001b[38;5;124m'\u001b[39m\u001b[38;5;124ma\u001b[39m\u001b[38;5;124m'\u001b[39m)] \u001b[38;5;241m+\u001b[39m\u001b[38;5;241m=\u001b[39m \u001b[38;5;241m1\u001b[39m;\n\u001b[0;32m---> 13\u001b[0m     count[\u001b[38;5;28mord\u001b[39m(\u001b[43mstr2\u001b[49m\u001b[43m[\u001b[49m\u001b[43mi\u001b[49m\u001b[43m]\u001b[49m) \u001b[38;5;241m-\u001b[39m \u001b[38;5;28mord\u001b[39m(\u001b[38;5;124m'\u001b[39m\u001b[38;5;124ma\u001b[39m\u001b[38;5;124m'\u001b[39m)] \u001b[38;5;241m-\u001b[39m\u001b[38;5;241m=\u001b[39m \u001b[38;5;241m1\u001b[39m;\n\u001b[1;32m     15\u001b[0m \u001b[38;5;66;03m# check if strings are the same length  \u001b[39;00m\n\u001b[1;32m     16\u001b[0m \u001b[38;5;28;01mif\u001b[39;00m(\u001b[38;5;28mlen\u001b[39m(str1) \u001b[38;5;241m!=\u001b[39m \u001b[38;5;28mlen\u001b[39m(str2)):\n",
      "\u001b[0;31mIndexError\u001b[0m: string index out of range"
     ]
    }
   ],
   "source": [
    "\n",
    "NO_OF_CHARS = 256\n",
    " \n",
    "def areAnagram(str1,str2):\n",
    "     \n",
    "    # create a count and set staring value to 0\n",
    "    count=[0 for i in range(NO_OF_CHARS)]\n",
    "    i=0\n",
    "     \n",
    "    # str1 letters = +1\n",
    "    # str2 letters = -1\n",
    "    for i in range(len(str1)):\n",
    "        count[ord(str1[i]) - ord('a')] += 1;\n",
    "        count[ord(str2[i]) - ord('a')] -= 1;\n",
    "     \n",
    "    # check if strings are the same length  \n",
    "    if(len(str1) != len(str2)):\n",
    "        return False;\n",
    "     \n",
    "    # if they strings are the same length check for letter comparison. Any answer other than 0 = not an anagram\n",
    "    for i in range(NO_OF_CHARS):\n",
    "        if (count[i] != 0):\n",
    "            return False       \n",
    "     \n",
    "    return True\n",
    " \n",
    "\n",
    "str1=\"I am lord voldemort\"\n",
    "str2=\"Tom Marvolo Riddle\"\n",
    " \n",
    "# Function call\n",
    "if (areAnagram(str1, str2)):\n",
    "    print(\n",
    "    \"Strings are anagrams\")\n",
    "else:\n",
    "    print(\n",
    "    \"Strings are not anagrams\")"
   ]
  },
  {
   "cell_type": "code",
   "execution_count": null,
   "id": "3e24fb0a",
   "metadata": {},
   "outputs": [],
   "source": []
  }
 ],
 "metadata": {
  "kernelspec": {
   "display_name": "Python 3 (ipykernel)",
   "language": "python",
   "name": "python3"
  },
  "language_info": {
   "codemirror_mode": {
    "name": "ipython",
    "version": 3
   },
   "file_extension": ".py",
   "mimetype": "text/x-python",
   "name": "python",
   "nbconvert_exporter": "python",
   "pygments_lexer": "ipython3",
   "version": "3.8.10"
  }
 },
 "nbformat": 4,
 "nbformat_minor": 5
}
